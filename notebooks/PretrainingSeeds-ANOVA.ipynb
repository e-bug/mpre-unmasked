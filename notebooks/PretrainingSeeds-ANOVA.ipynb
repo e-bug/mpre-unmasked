{
 "cells": [
  {
   "cell_type": "code",
   "execution_count": null,
   "metadata": {},
   "outputs": [],
   "source": [
    "import numpy as np\n",
    "import pandas as pd\n",
    "import seaborn as sns\n",
    "\n",
    "import statsmodels\n",
    "import statsmodels.api as sm\n",
    "from statsmodels.formula.api import ols  # Ordinary Least Squares (OLS) model\n",
    "\n",
    "import matplotlib\n",
    "import matplotlib.pyplot as plt\n",
    "matplotlib.rcParams['text.usetex'] = True\n",
    "matplotlib.rcParams['text.latex.preview'] = True\n",
    "plt.rc('font', family='serif', serif=['Times'])"
   ]
  },
  {
   "cell_type": "markdown",
   "metadata": {},
   "source": [
    "## VQA"
   ]
  },
  {
   "cell_type": "code",
   "execution_count": 224,
   "metadata": {},
   "outputs": [
    {
     "data": {
      "text/html": [
       "<div>\n",
       "<style scoped>\n",
       "    .dataframe tbody tr th:only-of-type {\n",
       "        vertical-align: middle;\n",
       "    }\n",
       "\n",
       "    .dataframe tbody tr th {\n",
       "        vertical-align: top;\n",
       "    }\n",
       "\n",
       "    .dataframe thead th {\n",
       "        text-align: right;\n",
       "    }\n",
       "</style>\n",
       "<table border=\"1\" class=\"dataframe\">\n",
       "  <thead>\n",
       "    <tr style=\"text-align: right;\">\n",
       "      <th></th>\n",
       "      <th>Scores</th>\n",
       "      <th>Model</th>\n",
       "      <th>Group</th>\n",
       "    </tr>\n",
       "  </thead>\n",
       "  <tbody>\n",
       "    <tr>\n",
       "      <td>0</td>\n",
       "      <td>68.90</td>\n",
       "      <td>vilbert</td>\n",
       "      <td>Dual</td>\n",
       "    </tr>\n",
       "    <tr>\n",
       "      <td>1</td>\n",
       "      <td>68.71</td>\n",
       "      <td>vilbert</td>\n",
       "      <td>Dual</td>\n",
       "    </tr>\n",
       "    <tr>\n",
       "      <td>2</td>\n",
       "      <td>68.85</td>\n",
       "      <td>vilbert</td>\n",
       "      <td>Dual</td>\n",
       "    </tr>\n",
       "    <tr>\n",
       "      <td>3</td>\n",
       "      <td>68.97</td>\n",
       "      <td>vilbert</td>\n",
       "      <td>Dual</td>\n",
       "    </tr>\n",
       "    <tr>\n",
       "      <td>4</td>\n",
       "      <td>68.75</td>\n",
       "      <td>vilbert</td>\n",
       "      <td>Dual</td>\n",
       "    </tr>\n",
       "  </tbody>\n",
       "</table>\n",
       "</div>"
      ],
      "text/plain": [
       "   Scores    Model Group\n",
       "0   68.90  vilbert  Dual\n",
       "1   68.71  vilbert  Dual\n",
       "2   68.85  vilbert  Dual\n",
       "3   68.97  vilbert  Dual\n",
       "4   68.75  vilbert  Dual"
      ]
     },
     "execution_count": 224,
     "metadata": {},
     "output_type": "execute_result"
    }
   ],
   "source": [
    "vilbert = {0 : 68.90, 1234 : 68.71, 27 : 68.85, 33 : 68.97, 42 : 68.75, 54 : 68.83, 69 : 68.73, 73 : 68.77, 89 : 68.69, 93 : 68.90}\n",
    "lxmert = {0 : 67.52, 1234 : 67.52, 27 : 67.73, 33 : 67.50, 42 : 67.08, 54 : 67.40, 69 : 67.66, 73 : 67.64, 89 : 67.46, 93 : 67.51}\n",
    "vlbert = {0 : 68.04, 1234 : 68.16, 27 : 68.72, 33 : 68.29, 42 : 68.33, 54 : 68.37, 69 : 68.24, 73 : 67.97, 89 : 68.23, 93 : 67.96}\n",
    "visualbert = {0 : 68.66, 1234 : 69.03, 27 : 68.65, 33 : 68.53, 42 : 68.20, 54 : 68.85, 69 : 68.77, 73 : 68.59, 89 : 68.55, 93 : 68.66}\n",
    "uniter = {0 : 68.70, 1234 : 68.38, 27 : 68.92, 33 : 68.30, 42 : 68.84, 54 : 68.22, 69 : 68.14, 73 : 68.67, 89 : 68.80, 93 : 68.73}\n",
    "\n",
    "# Create a dataframe\n",
    "scores = list(vilbert.values()) + list(vlbert.values()) + list(visualbert.values()) + list(uniter.values())\n",
    "models = ['vilbert']*10 + ['vl-bert']*10 + ['visualbert']*10 + ['uniter']*10\n",
    "groups = ['Dual']*10 + ['Single']*30\n",
    "df = pd.DataFrame({'Scores': scores, 'Model': models, 'Group': groups, 'Subject': list(range(40))})\n",
    "df = df.drop('Subject', axis=1)\n",
    "\n",
    "df.head()"
   ]
  },
  {
   "cell_type": "code",
   "execution_count": 225,
   "metadata": {},
   "outputs": [
    {
     "data": {
      "text/plain": [
       "<matplotlib.axes._subplots.AxesSubplot at 0x7fe7e9175410>"
      ]
     },
     "execution_count": 225,
     "metadata": {},
     "output_type": "execute_result"
    },
    {
     "data": {
      "image/png": "[encoded data removed]",
      "text/plain": [
       "<Figure size 432x288 with 1 Axes>"
      ]
     },
     "metadata": {
      "needs_background": "light"
     },
     "output_type": "display_data"
    }
   ],
   "source": [
    "sns.boxplot(x=\"Model\", y=\"Scores\", hue=\"Group\", data=df, palette=\"Set3\") "
   ]
  },
  {
   "cell_type": "code",
   "execution_count": 232,
   "metadata": {},
   "outputs": [
    {
     "data": {
      "text/html": [
       "<div>\n",
       "<style scoped>\n",
       "    .dataframe tbody tr th:only-of-type {\n",
       "        vertical-align: middle;\n",
       "    }\n",
       "\n",
       "    .dataframe tbody tr th {\n",
       "        vertical-align: top;\n",
       "    }\n",
       "\n",
       "    .dataframe thead th {\n",
       "        text-align: right;\n",
       "    }\n",
       "</style>\n",
       "<table border=\"1\" class=\"dataframe\">\n",
       "  <thead>\n",
       "    <tr style=\"text-align: right;\">\n",
       "      <th></th>\n",
       "      <th>sum_sq</th>\n",
       "      <th>df</th>\n",
       "      <th>F</th>\n",
       "      <th>PR(&gt;F)</th>\n",
       "    </tr>\n",
       "  </thead>\n",
       "  <tbody>\n",
       "    <tr>\n",
       "      <td>C(Model)</td>\n",
       "      <td>1.78662</td>\n",
       "      <td>3.0</td>\n",
       "      <td>12.751097</td>\n",
       "      <td>0.000008</td>\n",
       "    </tr>\n",
       "    <tr>\n",
       "      <td>Residual</td>\n",
       "      <td>1.68138</td>\n",
       "      <td>36.0</td>\n",
       "      <td>NaN</td>\n",
       "      <td>NaN</td>\n",
       "    </tr>\n",
       "  </tbody>\n",
       "</table>\n",
       "</div>"
      ],
      "text/plain": [
       "           sum_sq    df          F    PR(>F)\n",
       "C(Model)  1.78662   3.0  12.751097  0.000008\n",
       "Residual  1.68138  36.0        NaN       NaN"
      ]
     },
     "execution_count": 232,
     "metadata": {},
     "output_type": "execute_result"
    }
   ],
   "source": [
    "# V&L BERTs\n",
    "model = ols('Scores ~ C(Model)', data=df).fit()\n",
    "anova_table = sm.stats.anova_lm(model, typ=2)\n",
    "anova_table"
   ]
  },
  {
   "cell_type": "code",
   "execution_count": 234,
   "metadata": {},
   "outputs": [
    {
     "data": {
      "text/html": [
       "<div>\n",
       "<style scoped>\n",
       "    .dataframe tbody tr th:only-of-type {\n",
       "        vertical-align: middle;\n",
       "    }\n",
       "\n",
       "    .dataframe tbody tr th {\n",
       "        vertical-align: top;\n",
       "    }\n",
       "\n",
       "    .dataframe thead th {\n",
       "        text-align: right;\n",
       "    }\n",
       "</style>\n",
       "<table border=\"1\" class=\"dataframe\">\n",
       "  <thead>\n",
       "    <tr style=\"text-align: right;\">\n",
       "      <th></th>\n",
       "      <th>sum_sq</th>\n",
       "      <th>df</th>\n",
       "      <th>F</th>\n",
       "      <th>PR(&gt;F)</th>\n",
       "    </tr>\n",
       "  </thead>\n",
       "  <tbody>\n",
       "    <tr>\n",
       "      <td>C(Group)</td>\n",
       "      <td>0.800333</td>\n",
       "      <td>1.0</td>\n",
       "      <td>11.400475</td>\n",
       "      <td>0.001705</td>\n",
       "    </tr>\n",
       "    <tr>\n",
       "      <td>Residual</td>\n",
       "      <td>2.667667</td>\n",
       "      <td>38.0</td>\n",
       "      <td>NaN</td>\n",
       "      <td>NaN</td>\n",
       "    </tr>\n",
       "  </tbody>\n",
       "</table>\n",
       "</div>"
      ],
      "text/plain": [
       "            sum_sq    df          F    PR(>F)\n",
       "C(Group)  0.800333   1.0  11.400475  0.001705\n",
       "Residual  2.667667  38.0        NaN       NaN"
      ]
     },
     "execution_count": 234,
     "metadata": {},
     "output_type": "execute_result"
    }
   ],
   "source": [
    "# Single/Dual Stream\n",
    "model = ols('Scores ~ C(Group)', data=df).fit()\n",
    "anova_table = sm.stats.anova_lm(model, typ=2)\n",
    "anova_table"
   ]
  },
  {
   "cell_type": "markdown",
   "metadata": {},
   "source": [
    "## RefCOCO"
   ]
  },
  {
   "cell_type": "code",
   "execution_count": 139,
   "metadata": {},
   "outputs": [
    {
     "data": {
      "text/html": [
       "<div>\n",
       "<style scoped>\n",
       "    .dataframe tbody tr th:only-of-type {\n",
       "        vertical-align: middle;\n",
       "    }\n",
       "\n",
       "    .dataframe tbody tr th {\n",
       "        vertical-align: top;\n",
       "    }\n",
       "\n",
       "    .dataframe thead th {\n",
       "        text-align: right;\n",
       "    }\n",
       "</style>\n",
       "<table border=\"1\" class=\"dataframe\">\n",
       "  <thead>\n",
       "    <tr style=\"text-align: right;\">\n",
       "      <th></th>\n",
       "      <th>Scores</th>\n",
       "      <th>Model</th>\n",
       "      <th>Group</th>\n",
       "    </tr>\n",
       "  </thead>\n",
       "  <tbody>\n",
       "    <tr>\n",
       "      <td>0</td>\n",
       "      <td>70.84</td>\n",
       "      <td>vilbert</td>\n",
       "      <td>Dual</td>\n",
       "    </tr>\n",
       "    <tr>\n",
       "      <td>1</td>\n",
       "      <td>70.57</td>\n",
       "      <td>vilbert</td>\n",
       "      <td>Dual</td>\n",
       "    </tr>\n",
       "    <tr>\n",
       "      <td>2</td>\n",
       "      <td>70.95</td>\n",
       "      <td>vilbert</td>\n",
       "      <td>Dual</td>\n",
       "    </tr>\n",
       "    <tr>\n",
       "      <td>3</td>\n",
       "      <td>70.53</td>\n",
       "      <td>vilbert</td>\n",
       "      <td>Dual</td>\n",
       "    </tr>\n",
       "    <tr>\n",
       "      <td>4</td>\n",
       "      <td>71.41</td>\n",
       "      <td>vilbert</td>\n",
       "      <td>Dual</td>\n",
       "    </tr>\n",
       "  </tbody>\n",
       "</table>\n",
       "</div>"
      ],
      "text/plain": [
       "   Scores    Model Group\n",
       "0   70.84  vilbert  Dual\n",
       "1   70.57  vilbert  Dual\n",
       "2   70.95  vilbert  Dual\n",
       "3   70.53  vilbert  Dual\n",
       "4   71.41  vilbert  Dual"
      ]
     },
     "execution_count": 139,
     "metadata": {},
     "output_type": "execute_result"
    }
   ],
   "source": [
    "vilbert = {0 : 70.84, 1234 : 70.57, 27 : 70.95, 33 : 70.53, 42 : 71.41, 54 : 71.31, 69 : 70.87, 73 : 71.11, 89 : 71.07, 93 : 70.81}\n",
    "lxmert = {0 : 70.49, 1234 : 70.40, 27 : 69.91, 33 : 70.14, 42 : 68.84, 54 : 69.81, 69 : 69.84, 73 : 70.20, 89 : 69.83, 93 : 70.04}\n",
    "vlbert = {0 : 71.39, 1234 : 71.16, 27 : 71.46, 33 : 71.20, 42 : 71.07, 54 : 71.15, 69 : 70.84, 73 : 70.82, 89 : 71.23, 93 : 71.23}\n",
    "visualbert = {0 : 69.67, 1234 : 70.02, 27 : 70.01, 33 : 69.51, 42 : 69.68, 54 : 69.83, 69 : 69.90, 73 : 70.25, 89 : 69.54, 93 : 69.40}\n",
    "uniter = {0 : 71.62, 1234 : 71.88, 27 : 71.49, 33 : 71.61, 42 : 71.95, 54 : 71.59, 69 : 71.63, 73 : 71.45, 89 : 71.80, 93 : 71.50}\n",
    "\n",
    "# Create a dataframe\n",
    "scores = list(vilbert.values()) + list(vlbert.values()) + list(visualbert.values()) + list(uniter.values())\n",
    "models = ['vilbert']*10 + ['vl-bert']*10 + ['visualbert']*10 + ['uniter']*10\n",
    "groups = ['Dual']*10 + ['Single']*30\n",
    "df = pd.DataFrame({'Scores': scores, 'Model': models, 'Group': groups, 'Subject': list(range(40))})\n",
    "df = df.drop('Subject', axis=1)\n",
    "\n",
    "df.head()"
   ]
  },
  {
   "cell_type": "code",
   "execution_count": 140,
   "metadata": {},
   "outputs": [
    {
     "data": {
      "text/plain": [
       "<matplotlib.axes._subplots.AxesSubplot at 0x7fe803cb5dd0>"
      ]
     },
     "execution_count": 140,
     "metadata": {},
     "output_type": "execute_result"
    },
    {
     "data": {
      "image/png": "[encoded data removed]",
      "text/plain": [
       "<Figure size 432x288 with 1 Axes>"
      ]
     },
     "metadata": {
      "needs_background": "light"
     },
     "output_type": "display_data"
    }
   ],
   "source": [
    "sns.boxplot(x=\"Model\", y=\"Scores\", hue=\"Group\", data=df, palette=\"Set3\") "
   ]
  },
  {
   "cell_type": "code",
   "execution_count": 142,
   "metadata": {},
   "outputs": [
    {
     "data": {
      "text/html": [
       "<div>\n",
       "<style scoped>\n",
       "    .dataframe tbody tr th:only-of-type {\n",
       "        vertical-align: middle;\n",
       "    }\n",
       "\n",
       "    .dataframe tbody tr th {\n",
       "        vertical-align: top;\n",
       "    }\n",
       "\n",
       "    .dataframe thead th {\n",
       "        text-align: right;\n",
       "    }\n",
       "</style>\n",
       "<table border=\"1\" class=\"dataframe\">\n",
       "  <thead>\n",
       "    <tr style=\"text-align: right;\">\n",
       "      <th></th>\n",
       "      <th>sum_sq</th>\n",
       "      <th>df</th>\n",
       "      <th>F</th>\n",
       "      <th>PR(&gt;F)</th>\n",
       "    </tr>\n",
       "  </thead>\n",
       "  <tbody>\n",
       "    <tr>\n",
       "      <td>C(Model)</td>\n",
       "      <td>18.838427</td>\n",
       "      <td>3.0</td>\n",
       "      <td>111.607017</td>\n",
       "      <td>2.732179e-18</td>\n",
       "    </tr>\n",
       "    <tr>\n",
       "      <td>Residual</td>\n",
       "      <td>2.025510</td>\n",
       "      <td>36.0</td>\n",
       "      <td>NaN</td>\n",
       "      <td>NaN</td>\n",
       "    </tr>\n",
       "  </tbody>\n",
       "</table>\n",
       "</div>"
      ],
      "text/plain": [
       "             sum_sq    df           F        PR(>F)\n",
       "C(Model)  18.838427   3.0  111.607017  2.732179e-18\n",
       "Residual   2.025510  36.0         NaN           NaN"
      ]
     },
     "execution_count": 142,
     "metadata": {},
     "output_type": "execute_result"
    }
   ],
   "source": [
    "# V&L BERTs\n",
    "model = ols('Scores ~ C(Model)', data=df).fit()\n",
    "anova_table = sm.stats.anova_lm(model, typ=2)\n",
    "anova_table"
   ]
  },
  {
   "cell_type": "code",
   "execution_count": 143,
   "metadata": {},
   "outputs": [
    {
     "data": {
      "text/html": [
       "<div>\n",
       "<style scoped>\n",
       "    .dataframe tbody tr th:only-of-type {\n",
       "        vertical-align: middle;\n",
       "    }\n",
       "\n",
       "    .dataframe tbody tr th {\n",
       "        vertical-align: top;\n",
       "    }\n",
       "\n",
       "    .dataframe thead th {\n",
       "        text-align: right;\n",
       "    }\n",
       "</style>\n",
       "<table border=\"1\" class=\"dataframe\">\n",
       "  <thead>\n",
       "    <tr style=\"text-align: right;\">\n",
       "      <th></th>\n",
       "      <th>sum_sq</th>\n",
       "      <th>df</th>\n",
       "      <th>F</th>\n",
       "      <th>PR(&gt;F)</th>\n",
       "    </tr>\n",
       "  </thead>\n",
       "  <tbody>\n",
       "    <tr>\n",
       "      <td>C(Group)</td>\n",
       "      <td>0.053341</td>\n",
       "      <td>1.0</td>\n",
       "      <td>0.0974</td>\n",
       "      <td>0.756678</td>\n",
       "    </tr>\n",
       "    <tr>\n",
       "      <td>Residual</td>\n",
       "      <td>20.810597</td>\n",
       "      <td>38.0</td>\n",
       "      <td>NaN</td>\n",
       "      <td>NaN</td>\n",
       "    </tr>\n",
       "  </tbody>\n",
       "</table>\n",
       "</div>"
      ],
      "text/plain": [
       "             sum_sq    df       F    PR(>F)\n",
       "C(Group)   0.053341   1.0  0.0974  0.756678\n",
       "Residual  20.810597  38.0     NaN       NaN"
      ]
     },
     "execution_count": 143,
     "metadata": {},
     "output_type": "execute_result"
    }
   ],
   "source": [
    "# Single/Dual Stream\n",
    "model = ols('Scores ~ C(Group)', data=df).fit()\n",
    "anova_table = sm.stats.anova_lm(model, typ=2)\n",
    "anova_table"
   ]
  },
  {
   "cell_type": "markdown",
   "metadata": {},
   "source": [
    "## NLVR2"
   ]
  },
  {
   "cell_type": "code",
   "execution_count": 145,
   "metadata": {},
   "outputs": [
    {
     "data": {
      "text/html": [
       "<div>\n",
       "<style scoped>\n",
       "    .dataframe tbody tr th:only-of-type {\n",
       "        vertical-align: middle;\n",
       "    }\n",
       "\n",
       "    .dataframe tbody tr th {\n",
       "        vertical-align: top;\n",
       "    }\n",
       "\n",
       "    .dataframe thead th {\n",
       "        text-align: right;\n",
       "    }\n",
       "</style>\n",
       "<table border=\"1\" class=\"dataframe\">\n",
       "  <thead>\n",
       "    <tr style=\"text-align: right;\">\n",
       "      <th></th>\n",
       "      <th>Scores</th>\n",
       "      <th>Model</th>\n",
       "      <th>Group</th>\n",
       "    </tr>\n",
       "  </thead>\n",
       "  <tbody>\n",
       "    <tr>\n",
       "      <td>0</td>\n",
       "      <td>71.87</td>\n",
       "      <td>vilbert</td>\n",
       "      <td>Dual</td>\n",
       "    </tr>\n",
       "    <tr>\n",
       "      <td>1</td>\n",
       "      <td>71.91</td>\n",
       "      <td>vilbert</td>\n",
       "      <td>Dual</td>\n",
       "    </tr>\n",
       "    <tr>\n",
       "      <td>2</td>\n",
       "      <td>71.51</td>\n",
       "      <td>vilbert</td>\n",
       "      <td>Dual</td>\n",
       "    </tr>\n",
       "    <tr>\n",
       "      <td>3</td>\n",
       "      <td>72.24</td>\n",
       "      <td>vilbert</td>\n",
       "      <td>Dual</td>\n",
       "    </tr>\n",
       "    <tr>\n",
       "      <td>4</td>\n",
       "      <td>72.38</td>\n",
       "      <td>vilbert</td>\n",
       "      <td>Dual</td>\n",
       "    </tr>\n",
       "  </tbody>\n",
       "</table>\n",
       "</div>"
      ],
      "text/plain": [
       "   Scores    Model Group\n",
       "0   71.87  vilbert  Dual\n",
       "1   71.91  vilbert  Dual\n",
       "2   71.51  vilbert  Dual\n",
       "3   72.24  vilbert  Dual\n",
       "4   72.38  vilbert  Dual"
      ]
     },
     "execution_count": 145,
     "metadata": {},
     "output_type": "execute_result"
    }
   ],
   "source": [
    "vilbert = {0 : 71.87, 1234 : 71.91, 27 : 71.51, 33 : 72.24, 42 : 72.38, 54 : 72.57, 69 : 71.60, 73 : 71.93, 89 : 72.71, 93 : 71.72}\n",
    "lxmert = {0 : 71.09, 1234 : 70.76, 27 : 68.87, 33 : 69.40, 42 : 69.07, 54 : 69.51, 69 : 69.69, 73 : 69.26, 89 : 69.64, 93 : 70.19}\n",
    "vlbert = {0 : 72.31, 1234 : 72.57, 27 : 72.90, 33 : 73.19, 42 : 72.61, 54 : 73.20, 69 : 73.37, 73 : 73.04, 89 : 73.22, 93 : 72.66}\n",
    "visualbert = {0 : 71.82, 1234 : 72.70, 27 : 72.61, 33 : 71.22, 42 : 71.34, 54 : 71.25, 69 : 72.03, 73 : 72.27, 89 : 72.87, 93 : 72.67}\n",
    "uniter = {0 : 72.05, 1234 : 73.26, 27 : 73.36, 33 : 73.49, 42 : 72.94, 54 : 74.16, 69 : 72.57, 73 : 73.73, 89 : 73.30, 93 : 73.39}\n",
    "\n",
    "# Create a dataframe\n",
    "scores = list(vilbert.values()) + list(vlbert.values()) + list(visualbert.values()) + list(uniter.values())\n",
    "models = ['vilbert']*10 + ['vl-bert']*10 + ['visualbert']*10 + ['uniter']*10\n",
    "groups = ['Dual']*10 + ['Single']*30\n",
    "df = pd.DataFrame({'Scores': scores, 'Model': models, 'Group': groups, 'Subject': list(range(40))})\n",
    "df = df.drop('Subject', axis=1)\n",
    "\n",
    "df.head()"
   ]
  },
  {
   "cell_type": "code",
   "execution_count": 146,
   "metadata": {},
   "outputs": [
    {
     "data": {
      "text/plain": [
       "<matplotlib.axes._subplots.AxesSubplot at 0x7fe80363fa90>"
      ]
     },
     "execution_count": 146,
     "metadata": {},
     "output_type": "execute_result"
    },
    {
     "data": {
      "image/png": "[encoded data removed]",
      "text/plain": [
       "<Figure size 432x288 with 1 Axes>"
      ]
     },
     "metadata": {
      "needs_background": "light"
     },
     "output_type": "display_data"
    }
   ],
   "source": [
    "sns.boxplot(x=\"Model\", y=\"Scores\", hue=\"Group\", data=df, palette=\"Set3\") "
   ]
  },
  {
   "cell_type": "code",
   "execution_count": 148,
   "metadata": {},
   "outputs": [
    {
     "data": {
      "text/html": [
       "<div>\n",
       "<style scoped>\n",
       "    .dataframe tbody tr th:only-of-type {\n",
       "        vertical-align: middle;\n",
       "    }\n",
       "\n",
       "    .dataframe tbody tr th {\n",
       "        vertical-align: top;\n",
       "    }\n",
       "\n",
       "    .dataframe thead th {\n",
       "        text-align: right;\n",
       "    }\n",
       "</style>\n",
       "<table border=\"1\" class=\"dataframe\">\n",
       "  <thead>\n",
       "    <tr style=\"text-align: right;\">\n",
       "      <th></th>\n",
       "      <th>sum_sq</th>\n",
       "      <th>df</th>\n",
       "      <th>F</th>\n",
       "      <th>PR(&gt;F)</th>\n",
       "    </tr>\n",
       "  </thead>\n",
       "  <tbody>\n",
       "    <tr>\n",
       "      <td>C(Model)</td>\n",
       "      <td>10.61165</td>\n",
       "      <td>3.0</td>\n",
       "      <td>13.407492</td>\n",
       "      <td>0.000005</td>\n",
       "    </tr>\n",
       "    <tr>\n",
       "      <td>Residual</td>\n",
       "      <td>9.49766</td>\n",
       "      <td>36.0</td>\n",
       "      <td>NaN</td>\n",
       "      <td>NaN</td>\n",
       "    </tr>\n",
       "  </tbody>\n",
       "</table>\n",
       "</div>"
      ],
      "text/plain": [
       "            sum_sq    df          F    PR(>F)\n",
       "C(Model)  10.61165   3.0  13.407492  0.000005\n",
       "Residual   9.49766  36.0        NaN       NaN"
      ]
     },
     "execution_count": 148,
     "metadata": {},
     "output_type": "execute_result"
    }
   ],
   "source": [
    "# V&L BERTs\n",
    "model = ols('Scores ~ C(Model)', data=df).fit()\n",
    "anova_table = sm.stats.anova_lm(model, typ=2)\n",
    "anova_table"
   ]
  },
  {
   "cell_type": "code",
   "execution_count": 149,
   "metadata": {},
   "outputs": [
    {
     "data": {
      "text/html": [
       "<div>\n",
       "<style scoped>\n",
       "    .dataframe tbody tr th:only-of-type {\n",
       "        vertical-align: middle;\n",
       "    }\n",
       "\n",
       "    .dataframe tbody tr th {\n",
       "        vertical-align: top;\n",
       "    }\n",
       "\n",
       "    .dataframe thead th {\n",
       "        text-align: right;\n",
       "    }\n",
       "</style>\n",
       "<table border=\"1\" class=\"dataframe\">\n",
       "  <thead>\n",
       "    <tr style=\"text-align: right;\">\n",
       "      <th></th>\n",
       "      <th>sum_sq</th>\n",
       "      <th>df</th>\n",
       "      <th>F</th>\n",
       "      <th>PR(&gt;F)</th>\n",
       "    </tr>\n",
       "  </thead>\n",
       "  <tbody>\n",
       "    <tr>\n",
       "      <td>C(Group)</td>\n",
       "      <td>3.598403</td>\n",
       "      <td>1.0</td>\n",
       "      <td>8.281758</td>\n",
       "      <td>0.006537</td>\n",
       "    </tr>\n",
       "    <tr>\n",
       "      <td>Residual</td>\n",
       "      <td>16.510907</td>\n",
       "      <td>38.0</td>\n",
       "      <td>NaN</td>\n",
       "      <td>NaN</td>\n",
       "    </tr>\n",
       "  </tbody>\n",
       "</table>\n",
       "</div>"
      ],
      "text/plain": [
       "             sum_sq    df         F    PR(>F)\n",
       "C(Group)   3.598403   1.0  8.281758  0.006537\n",
       "Residual  16.510907  38.0       NaN       NaN"
      ]
     },
     "execution_count": 149,
     "metadata": {},
     "output_type": "execute_result"
    }
   ],
   "source": [
    "# Single/Dual Stream\n",
    "model = ols('Scores ~ C(Group)', data=df).fit()\n",
    "anova_table = sm.stats.anova_lm(model, typ=2)\n",
    "anova_table"
   ]
  },
  {
   "cell_type": "markdown",
   "metadata": {},
   "source": [
    "## Flickr IR"
   ]
  },
  {
   "cell_type": "code",
   "execution_count": 151,
   "metadata": {},
   "outputs": [
    {
     "data": {
      "text/html": [
       "<div>\n",
       "<style scoped>\n",
       "    .dataframe tbody tr th:only-of-type {\n",
       "        vertical-align: middle;\n",
       "    }\n",
       "\n",
       "    .dataframe tbody tr th {\n",
       "        vertical-align: top;\n",
       "    }\n",
       "\n",
       "    .dataframe thead th {\n",
       "        text-align: right;\n",
       "    }\n",
       "</style>\n",
       "<table border=\"1\" class=\"dataframe\">\n",
       "  <thead>\n",
       "    <tr style=\"text-align: right;\">\n",
       "      <th></th>\n",
       "      <th>Scores</th>\n",
       "      <th>Model</th>\n",
       "      <th>Group</th>\n",
       "    </tr>\n",
       "  </thead>\n",
       "  <tbody>\n",
       "    <tr>\n",
       "      <td>0</td>\n",
       "      <td>59.60</td>\n",
       "      <td>vilbert</td>\n",
       "      <td>Dual</td>\n",
       "    </tr>\n",
       "    <tr>\n",
       "      <td>1</td>\n",
       "      <td>59.62</td>\n",
       "      <td>vilbert</td>\n",
       "      <td>Dual</td>\n",
       "    </tr>\n",
       "    <tr>\n",
       "      <td>2</td>\n",
       "      <td>60.94</td>\n",
       "      <td>vilbert</td>\n",
       "      <td>Dual</td>\n",
       "    </tr>\n",
       "    <tr>\n",
       "      <td>3</td>\n",
       "      <td>60.34</td>\n",
       "      <td>vilbert</td>\n",
       "      <td>Dual</td>\n",
       "    </tr>\n",
       "    <tr>\n",
       "      <td>4</td>\n",
       "      <td>59.82</td>\n",
       "      <td>vilbert</td>\n",
       "      <td>Dual</td>\n",
       "    </tr>\n",
       "  </tbody>\n",
       "</table>\n",
       "</div>"
      ],
      "text/plain": [
       "   Scores    Model Group\n",
       "0   59.60  vilbert  Dual\n",
       "1   59.62  vilbert  Dual\n",
       "2   60.94  vilbert  Dual\n",
       "3   60.34  vilbert  Dual\n",
       "4   59.82  vilbert  Dual"
      ]
     },
     "execution_count": 151,
     "metadata": {},
     "output_type": "execute_result"
    }
   ],
   "source": [
    "vilbert = {0 : 59.60, 1234 : 59.62, 27 : 60.94, 33 : 60.34, 42 : 59.82, 54 : 59.30, 69 : 61.24, 73 : 60.44, 89 : 60.78, 93 : 59.52}\n",
    "lxmert = {0 : 58.62, 1234 : 57.76, 27 : 55.36, 33 : 55.60, 42 : 50.36, 54 : 58.20, 69 : 55.92, 73 : 56.52, 89 : 56.64, 93 : 57.84}\n",
    "vlbert = {0 : 54.72, 1234 : 54.40, 27 : 57.26, 33 : 56.76, 42 : 57.92, 54 : 56.94, 69 : 55.14, 73 : 56.68, 89 : 57.62, 93 : 56.12}\n",
    "visualbert = {0 : 58.04, 1234 : 61.48, 27 : 58.98, 33 : 57.06, 42 : 61.06, 54 : 58.32, 69 : 58.90, 73 : 60.68, 89 : 58.16, 93 : 54.06}\n",
    "uniter = {0 : 60.74, 1234 : 58.26, 27 : 59.10, 33 : 58.72, 42 : 60.92, 54 : 57.88, 69 : 57.76, 73 : 60.54, 89 : 59.68, 93 : 59.94}\n",
    "\n",
    "# Create a dataframe\n",
    "scores = list(vilbert.values()) + list(vlbert.values()) + list(visualbert.values()) + list(uniter.values())\n",
    "models = ['vilbert']*10 + ['vl-bert']*10 + ['visualbert']*10 + ['uniter']*10\n",
    "groups = ['Dual']*10 + ['Single']*30\n",
    "df = pd.DataFrame({'Scores': scores, 'Model': models, 'Group': groups, 'Subject': list(range(40))})\n",
    "df = df.drop('Subject', axis=1)\n",
    "\n",
    "df.head()"
   ]
  },
  {
   "cell_type": "code",
   "execution_count": 152,
   "metadata": {},
   "outputs": [
    {
     "data": {
      "text/plain": [
       "<matplotlib.axes._subplots.AxesSubplot at 0x7fe7e5f1b090>"
      ]
     },
     "execution_count": 152,
     "metadata": {},
     "output_type": "execute_result"
    },
    {
     "data": {
      "image/png": "[encoded data removed]",
      "text/plain": [
       "<Figure size 432x288 with 1 Axes>"
      ]
     },
     "metadata": {
      "needs_background": "light"
     },
     "output_type": "display_data"
    }
   ],
   "source": [
    "sns.boxplot(x=\"Model\", y=\"Scores\", hue=\"Group\", data=df, palette=\"Set3\") "
   ]
  },
  {
   "cell_type": "code",
   "execution_count": 154,
   "metadata": {},
   "outputs": [
    {
     "data": {
      "text/html": [
       "<div>\n",
       "<style scoped>\n",
       "    .dataframe tbody tr th:only-of-type {\n",
       "        vertical-align: middle;\n",
       "    }\n",
       "\n",
       "    .dataframe tbody tr th {\n",
       "        vertical-align: top;\n",
       "    }\n",
       "\n",
       "    .dataframe thead th {\n",
       "        text-align: right;\n",
       "    }\n",
       "</style>\n",
       "<table border=\"1\" class=\"dataframe\">\n",
       "  <thead>\n",
       "    <tr style=\"text-align: right;\">\n",
       "      <th></th>\n",
       "      <th>sum_sq</th>\n",
       "      <th>df</th>\n",
       "      <th>F</th>\n",
       "      <th>PR(&gt;F)</th>\n",
       "    </tr>\n",
       "  </thead>\n",
       "  <tbody>\n",
       "    <tr>\n",
       "      <td>C(Model)</td>\n",
       "      <td>80.37944</td>\n",
       "      <td>3.0</td>\n",
       "      <td>13.272271</td>\n",
       "      <td>0.000005</td>\n",
       "    </tr>\n",
       "    <tr>\n",
       "      <td>Residual</td>\n",
       "      <td>72.67432</td>\n",
       "      <td>36.0</td>\n",
       "      <td>NaN</td>\n",
       "      <td>NaN</td>\n",
       "    </tr>\n",
       "  </tbody>\n",
       "</table>\n",
       "</div>"
      ],
      "text/plain": [
       "            sum_sq    df          F    PR(>F)\n",
       "C(Model)  80.37944   3.0  13.272271  0.000005\n",
       "Residual  72.67432  36.0        NaN       NaN"
      ]
     },
     "execution_count": 154,
     "metadata": {},
     "output_type": "execute_result"
    }
   ],
   "source": [
    "# V&L BERTs\n",
    "model = ols('Scores ~ C(Model)', data=df).fit()\n",
    "anova_table = sm.stats.anova_lm(model, typ=2)\n",
    "anova_table"
   ]
  },
  {
   "cell_type": "code",
   "execution_count": 155,
   "metadata": {},
   "outputs": [
    {
     "data": {
      "text/html": [
       "<div>\n",
       "<style scoped>\n",
       "    .dataframe tbody tr th:only-of-type {\n",
       "        vertical-align: middle;\n",
       "    }\n",
       "\n",
       "    .dataframe tbody tr th {\n",
       "        vertical-align: top;\n",
       "    }\n",
       "\n",
       "    .dataframe thead th {\n",
       "        text-align: right;\n",
       "    }\n",
       "</style>\n",
       "<table border=\"1\" class=\"dataframe\">\n",
       "  <thead>\n",
       "    <tr style=\"text-align: right;\">\n",
       "      <th></th>\n",
       "      <th>sum_sq</th>\n",
       "      <th>df</th>\n",
       "      <th>F</th>\n",
       "      <th>PR(&gt;F)</th>\n",
       "    </tr>\n",
       "  </thead>\n",
       "  <tbody>\n",
       "    <tr>\n",
       "      <td>C(Group)</td>\n",
       "      <td>30.96768</td>\n",
       "      <td>1.0</td>\n",
       "      <td>9.63887</td>\n",
       "      <td>0.00359</td>\n",
       "    </tr>\n",
       "    <tr>\n",
       "      <td>Residual</td>\n",
       "      <td>122.08608</td>\n",
       "      <td>38.0</td>\n",
       "      <td>NaN</td>\n",
       "      <td>NaN</td>\n",
       "    </tr>\n",
       "  </tbody>\n",
       "</table>\n",
       "</div>"
      ],
      "text/plain": [
       "             sum_sq    df        F   PR(>F)\n",
       "C(Group)   30.96768   1.0  9.63887  0.00359\n",
       "Residual  122.08608  38.0      NaN      NaN"
      ]
     },
     "execution_count": 155,
     "metadata": {},
     "output_type": "execute_result"
    }
   ],
   "source": [
    "# Single/Dual Stream\n",
    "model = ols('Scores ~ C(Group)', data=df).fit()\n",
    "anova_table = sm.stats.anova_lm(model, typ=2)\n",
    "anova_table"
   ]
  },
  {
   "cell_type": "markdown",
   "metadata": {},
   "source": [
    "## Flickr TR"
   ]
  },
  {
   "cell_type": "code",
   "execution_count": 157,
   "metadata": {},
   "outputs": [
    {
     "data": {
      "text/html": [
       "<div>\n",
       "<style scoped>\n",
       "    .dataframe tbody tr th:only-of-type {\n",
       "        vertical-align: middle;\n",
       "    }\n",
       "\n",
       "    .dataframe tbody tr th {\n",
       "        vertical-align: top;\n",
       "    }\n",
       "\n",
       "    .dataframe thead th {\n",
       "        text-align: right;\n",
       "    }\n",
       "</style>\n",
       "<table border=\"1\" class=\"dataframe\">\n",
       "  <thead>\n",
       "    <tr style=\"text-align: right;\">\n",
       "      <th></th>\n",
       "      <th>Scores</th>\n",
       "      <th>Model</th>\n",
       "      <th>Group</th>\n",
       "    </tr>\n",
       "  </thead>\n",
       "  <tbody>\n",
       "    <tr>\n",
       "      <td>0</td>\n",
       "      <td>75.0</td>\n",
       "      <td>vilbert</td>\n",
       "      <td>Dual</td>\n",
       "    </tr>\n",
       "    <tr>\n",
       "      <td>1</td>\n",
       "      <td>75.8</td>\n",
       "      <td>vilbert</td>\n",
       "      <td>Dual</td>\n",
       "    </tr>\n",
       "    <tr>\n",
       "      <td>2</td>\n",
       "      <td>76.9</td>\n",
       "      <td>vilbert</td>\n",
       "      <td>Dual</td>\n",
       "    </tr>\n",
       "    <tr>\n",
       "      <td>3</td>\n",
       "      <td>78.8</td>\n",
       "      <td>vilbert</td>\n",
       "      <td>Dual</td>\n",
       "    </tr>\n",
       "    <tr>\n",
       "      <td>4</td>\n",
       "      <td>76.7</td>\n",
       "      <td>vilbert</td>\n",
       "      <td>Dual</td>\n",
       "    </tr>\n",
       "  </tbody>\n",
       "</table>\n",
       "</div>"
      ],
      "text/plain": [
       "   Scores    Model Group\n",
       "0    75.0  vilbert  Dual\n",
       "1    75.8  vilbert  Dual\n",
       "2    76.9  vilbert  Dual\n",
       "3    78.8  vilbert  Dual\n",
       "4    76.7  vilbert  Dual"
      ]
     },
     "execution_count": 157,
     "metadata": {},
     "output_type": "execute_result"
    }
   ],
   "source": [
    "vilbert = {0 : 75.00, 1234 : 75.80, 27 : 76.90, 33 : 78.80, 42 : 76.70, 54 : 75.50, 69 : 77.30, 73 : 77.10, 89 : 76.50, 93 : 76.70}\n",
    "lxmert = {0 : 74.90, 1234 : 72.90, 27 : 71.30, 33 : 71.60, 42 : 62.50, 54 : 73.70, 69 : 70.10, 73 : 72.30, 89 : 72.20, 93 : 73.50}\n",
    "vlbert = {0 : 67.50, 1234 : 69.20, 27 : 70.80, 33 : 70.40, 42 : 68.50, 54 : 69.80, 69 : 71.30, 73 : 71.00, 89 : 70.90, 93 : 70.70}\n",
    "visualbert = {0 : 74.80, 1234 : 75.20, 27 : 71.50, 33 : 72.50, 42 : 75.50, 54 : 74.00, 69 : 72.80, 73 : 75.60, 89 : 71.30, 93 : 68.50}\n",
    "uniter = {0 : 75.30, 1234 : 72.50, 27 : 73.20, 33 : 72.10, 42 : 74.20, 54 : 72.60, 69 : 72.90, 73 : 76.40, 89 : 73.50, 93 : 74.90}\n",
    "\n",
    "# Create a dataframe\n",
    "scores = list(vilbert.values()) + list(vlbert.values()) + list(visualbert.values()) + list(uniter.values())\n",
    "models = ['vilbert']*10 + ['vl-bert']*10 + ['visualbert']*10 + ['uniter']*10\n",
    "groups = ['Dual']*10 + ['Single']*30\n",
    "df = pd.DataFrame({'Scores': scores, 'Model': models, 'Group': groups, 'Subject': list(range(40))})\n",
    "df = df.drop('Subject', axis=1)\n",
    "\n",
    "df.head()"
   ]
  },
  {
   "cell_type": "code",
   "execution_count": 158,
   "metadata": {},
   "outputs": [
    {
     "data": {
      "text/plain": [
       "<matplotlib.axes._subplots.AxesSubplot at 0x7fe7e5f0b990>"
      ]
     },
     "execution_count": 158,
     "metadata": {},
     "output_type": "execute_result"
    },
    {
     "data": {
      "image/png": "[encoded data removed]",
      "text/plain": [
       "<Figure size 432x288 with 1 Axes>"
      ]
     },
     "metadata": {
      "needs_background": "light"
     },
     "output_type": "display_data"
    }
   ],
   "source": [
    "sns.boxplot(x=\"Model\", y=\"Scores\", hue=\"Group\", data=df, palette=\"Set3\") "
   ]
  },
  {
   "cell_type": "code",
   "execution_count": 160,
   "metadata": {},
   "outputs": [
    {
     "data": {
      "text/html": [
       "<div>\n",
       "<style scoped>\n",
       "    .dataframe tbody tr th:only-of-type {\n",
       "        vertical-align: middle;\n",
       "    }\n",
       "\n",
       "    .dataframe tbody tr th {\n",
       "        vertical-align: top;\n",
       "    }\n",
       "\n",
       "    .dataframe thead th {\n",
       "        text-align: right;\n",
       "    }\n",
       "</style>\n",
       "<table border=\"1\" class=\"dataframe\">\n",
       "  <thead>\n",
       "    <tr style=\"text-align: right;\">\n",
       "      <th></th>\n",
       "      <th>sum_sq</th>\n",
       "      <th>df</th>\n",
       "      <th>F</th>\n",
       "      <th>PR(&gt;F)</th>\n",
       "    </tr>\n",
       "  </thead>\n",
       "  <tbody>\n",
       "    <tr>\n",
       "      <td>C(Model)</td>\n",
       "      <td>221.07275</td>\n",
       "      <td>3.0</td>\n",
       "      <td>29.742396</td>\n",
       "      <td>7.495249e-10</td>\n",
       "    </tr>\n",
       "    <tr>\n",
       "      <td>Residual</td>\n",
       "      <td>89.19500</td>\n",
       "      <td>36.0</td>\n",
       "      <td>NaN</td>\n",
       "      <td>NaN</td>\n",
       "    </tr>\n",
       "  </tbody>\n",
       "</table>\n",
       "</div>"
      ],
      "text/plain": [
       "             sum_sq    df          F        PR(>F)\n",
       "C(Model)  221.07275   3.0  29.742396  7.495249e-10\n",
       "Residual   89.19500  36.0        NaN           NaN"
      ]
     },
     "execution_count": 160,
     "metadata": {},
     "output_type": "execute_result"
    }
   ],
   "source": [
    "# V&L BERTs\n",
    "model = ols('Scores ~ C(Model)', data=df).fit()\n",
    "anova_table = sm.stats.anova_lm(model, typ=2)\n",
    "anova_table"
   ]
  },
  {
   "cell_type": "code",
   "execution_count": 161,
   "metadata": {},
   "outputs": [
    {
     "data": {
      "text/html": [
       "<div>\n",
       "<style scoped>\n",
       "    .dataframe tbody tr th:only-of-type {\n",
       "        vertical-align: middle;\n",
       "    }\n",
       "\n",
       "    .dataframe tbody tr th {\n",
       "        vertical-align: top;\n",
       "    }\n",
       "\n",
       "    .dataframe thead th {\n",
       "        text-align: right;\n",
       "    }\n",
       "</style>\n",
       "<table border=\"1\" class=\"dataframe\">\n",
       "  <thead>\n",
       "    <tr style=\"text-align: right;\">\n",
       "      <th></th>\n",
       "      <th>sum_sq</th>\n",
       "      <th>df</th>\n",
       "      <th>F</th>\n",
       "      <th>PR(&gt;F)</th>\n",
       "    </tr>\n",
       "  </thead>\n",
       "  <tbody>\n",
       "    <tr>\n",
       "      <td>C(Group)</td>\n",
       "      <td>139.752083</td>\n",
       "      <td>1.0</td>\n",
       "      <td>31.14423</td>\n",
       "      <td>0.000002</td>\n",
       "    </tr>\n",
       "    <tr>\n",
       "      <td>Residual</td>\n",
       "      <td>170.515667</td>\n",
       "      <td>38.0</td>\n",
       "      <td>NaN</td>\n",
       "      <td>NaN</td>\n",
       "    </tr>\n",
       "  </tbody>\n",
       "</table>\n",
       "</div>"
      ],
      "text/plain": [
       "              sum_sq    df         F    PR(>F)\n",
       "C(Group)  139.752083   1.0  31.14423  0.000002\n",
       "Residual  170.515667  38.0       NaN       NaN"
      ]
     },
     "execution_count": 161,
     "metadata": {},
     "output_type": "execute_result"
    }
   ],
   "source": [
    "# Single/Dual Stream\n",
    "model = ols('Scores ~ C(Group)', data=df).fit()\n",
    "anova_table = sm.stats.anova_lm(model, typ=2)\n",
    "anova_table"
   ]
  }
 ],
 "metadata": {
  "kernelspec": {
   "display_name": "Python 3",
   "language": "python",
   "name": "python3"
  },
  "language_info": {
   "codemirror_mode": {
    "name": "ipython",
    "version": 3
   },
   "file_extension": ".py",
   "mimetype": "text/x-python",
   "name": "python",
   "nbconvert_exporter": "python",
   "pygments_lexer": "ipython3",
   "version": "3.7.4"
  }
 },
 "nbformat": 4,
 "nbformat_minor": 4
}
